{
 "cells": [
  {
   "cell_type": "code",
   "execution_count": 0,
   "metadata": {
    "application/vnd.databricks.v1+cell": {
     "cellMetadata": {
      "byteLimit": 2048000,
      "rowLimit": 10000
     },
     "inputWidgets": {},
     "nuid": "0c061e18-edf8-4323-b1d0-1bcd84a346fd",
     "showTitle": false,
     "title": ""
    }
   },
   "outputs": [
    {
     "output_type": "display_data",
     "data": {
      "text/html": [
       "<style scoped>\n",
       "  .ansiout {\n",
       "    display: block;\n",
       "    unicode-bidi: embed;\n",
       "    white-space: pre-wrap;\n",
       "    word-wrap: break-word;\n",
       "    word-break: break-all;\n",
       "    font-family: \"Menlo\", \"Monaco\", \"Consolas\", \"Ubuntu Mono\", \"Source Code Pro\", monospace;\n",
       "    font-size: 13px;\n",
       "    color: #555;\n",
       "    margin-left: 4px;\n",
       "    line-height: 19px;\n",
       "  }\n",
       "</style>\n",
       "<div class=\"ansiout\">storageAccount: String = ammosdatastorage\n",
       "container: String = proyectofinal\n",
       "sasKey: String = ?sv=2022-11-02&amp;ss=bfqt&amp;srt=sco&amp;sp=rwdlacupyx&amp;se=2024-03-19T12:52:13Z&amp;st=2024-02-05T04:52:13Z&amp;spr=https&amp;sig=%2FpaxEKfC7lxUc5lREA3ZgHV%2BQzX7HfNSfReHJKHaNWI%3D\n",
       "conf: String = fs.azure.sas.proyectofinal.ammosdatastorage.blob.core.windows.net\n",
       "res1: Boolean = true\n",
       "</div>"
      ]
     },
     "metadata": {
      "application/vnd.databricks.v1+output": {
       "addedWidgets": {},
       "arguments": {},
       "data": "<div class=\"ansiout\">storageAccount: String = ammosdatastorage\ncontainer: String = proyectofinal\nsasKey: String = ?sv=2022-11-02&amp;ss=bfqt&amp;srt=sco&amp;sp=rwdlacupyx&amp;se=2024-03-19T12:52:13Z&amp;st=2024-02-05T04:52:13Z&amp;spr=https&amp;sig=%2FpaxEKfC7lxUc5lREA3ZgHV%2BQzX7HfNSfReHJKHaNWI%3D\nconf: String = fs.azure.sas.proyectofinal.ammosdatastorage.blob.core.windows.net\nres1: Boolean = true\n</div>",
       "datasetInfos": [],
       "metadata": {
        "isDbfsCommandResult": false
       },
       "removedWidgets": [],
       "type": "html"
      }
     },
     "output_type": "display_data"
    }
   ],
   "source": [
    "%scala\n",
    "\n",
    "val storageAccount = \"ammosdatastorage\"\n",
    "val container = \"proyectofinal\"\n",
    "val sasKey = \"?sv=2022-11-02&ss=bfqt&srt=sco&sp=rwdlacupyx&se=2024-03-19T12:52:13Z&st=2024-02-05T04:52:13Z&spr=https&sig=%2FpaxEKfC7lxUc5lREA3ZgHV%2BQzX7HfNSfReHJKHaNWI%3D\"\n",
    "\n",
    "val conf = \"fs.azure.sas.\" + container + \".\" + storageAccount + \".blob.core.windows.net\"\n",
    "\n",
    "dbutils.fs.mount(source=\"wasbs://\" + container + \"@\" + storageAccount + \".blob.core.windows.net\", mountPoint=\"/mnt/\" + container, extraConfigs = Map(conf -> sasKey))"
   ]
  },
  {
   "cell_type": "code",
   "execution_count": 0,
   "metadata": {
    "application/vnd.databricks.v1+cell": {
     "cellMetadata": {
      "byteLimit": 2048000,
      "rowLimit": 10000
     },
     "inputWidgets": {},
     "nuid": "04d1af8c-270f-42ed-9e16-8ea9d65e3215",
     "showTitle": false,
     "title": ""
    }
   },
   "outputs": [],
   "source": [
    "dfProducto = spark.read.parquet(\"/mnt/proyectofinal/capaplata/Producto.parquet\")\n",
    "dfCategoria = spark.read.parquet(\"/mnt/proyectofinal/capaplata/Categoria.parquet\")\n",
    "dfSubCategoria = spark.read.parquet(\"/mnt/proyectofinal/capaplata/SubCategoria.parquet\")"
   ]
  },
  {
   "cell_type": "code",
   "execution_count": 0,
   "metadata": {
    "application/vnd.databricks.v1+cell": {
     "cellMetadata": {
      "byteLimit": 2048000,
      "implicitDf": true,
      "rowLimit": 10000
     },
     "inputWidgets": {},
     "nuid": "b40a58e0-4651-4f12-b5f9-7eb4d53326d5",
     "showTitle": false,
     "title": ""
    }
   },
   "outputs": [
    {
     "output_type": "display_data",
     "data": {
      "text/html": [
       "<style scoped>\n",
       "  .table-result-container {\n",
       "    max-height: 300px;\n",
       "    overflow: auto;\n",
       "  }\n",
       "  table, th, td {\n",
       "    border: 1px solid black;\n",
       "    border-collapse: collapse;\n",
       "  }\n",
       "  th, td {\n",
       "    padding: 5px;\n",
       "  }\n",
       "  th {\n",
       "    text-align: left;\n",
       "  }\n",
       "</style><div class='table-result-container'><table class='table-result'><thead style='background-color: white'><tr></tr></thead><tbody></tbody></table></div>"
      ]
     },
     "metadata": {
      "application/vnd.databricks.v1+output": {
       "addedWidgets": {},
       "aggData": [],
       "aggError": "",
       "aggOverflow": false,
       "aggSchema": [],
       "aggSeriesLimitReached": false,
       "aggType": "",
       "arguments": {},
       "columnCustomDisplayInfos": {},
       "data": [],
       "datasetInfos": [],
       "dbfsResultPath": null,
       "isJsonSchema": true,
       "metadata": {
        "dataframeName": null
       },
       "overflow": false,
       "plotOptions": {
        "customPlotOptions": {},
        "displayType": "table",
        "pivotAggregation": null,
        "pivotColumns": null,
        "xColumns": null,
        "yColumns": null
       },
       "removedWidgets": [],
       "schema": [],
       "type": "table"
      }
     },
     "output_type": "display_data"
    }
   ],
   "source": [
    "%sql\n",
    "CREATE OR REPLACE TEMP VIEW Fact_Producto AS\n",
    "SELECT P.Cod_Producto, P.Nombre AS NombreProducto, S.NOMBRE AS NombreSubCategoria, C.Nombre AS NombreCategoria\n",
    "FROM Producto AS P\n",
    "JOIN SubCategoria AS S\n",
    "ON P.Cod_SubCategoria = P.Cod_SubCategoria\n",
    "JOIN Categoria AS C\n",
    "ON S.Cod_Categoria = C.Cod_Categoria"
   ]
  },
  {
   "cell_type": "code",
   "execution_count": 0,
   "metadata": {
    "application/vnd.databricks.v1+cell": {
     "cellMetadata": {
      "byteLimit": 2048000,
      "rowLimit": 10000
     },
     "inputWidgets": {},
     "nuid": "d9d587c8-c748-4647-b4fe-e3706f77a47d",
     "showTitle": false,
     "title": ""
    }
   },
   "outputs": [],
   "source": [
    "dfFactProducto  = spark.table(\"Fact_Producto\")\n",
    "dfFactProducto.write.mode(\"overwrite\").parquet(\"/mnt/proyectofinal/capaoro/FactProducto.parquet\")"
   ]
  },
  {
   "cell_type": "code",
   "execution_count": 0,
   "metadata": {
    "application/vnd.databricks.v1+cell": {
     "cellMetadata": {
      "byteLimit": 2048000,
      "rowLimit": 10000
     },
     "inputWidgets": {},
     "nuid": "486c1cae-0e22-4f01-be1e-1ad600480de5",
     "showTitle": false,
     "title": ""
    }
   },
   "outputs": [
    {
     "output_type": "stream",
     "name": "stdout",
     "output_type": "stream",
     "text": [
      "/mnt/proyectofinal/ has been unmounted.\n"
     ]
    },
    {
     "output_type": "execute_result",
     "data": {
      "text/plain": [
       "True"
      ]
     },
     "execution_count": 6,
     "metadata": {},
     "output_type": "execute_result"
    }
   ],
   "source": [
    "dbutils.fs.unmount(\"/mnt/proyectofinal/\")"
   ]
  }
 ],
 "metadata": {
  "application/vnd.databricks.v1+notebook": {
   "dashboards": [],
   "language": "python",
   "notebookMetadata": {
    "mostRecentlyExecutedCommandWithImplicitDF": {
     "commandId": 2757161674768748,
     "dataframes": [
      "_sqldf"
     ]
    },
    "pythonIndentUnit": 4
   },
   "notebookName": "PF_capaoro",
   "widgets": {}
  }
 },
 "nbformat": 4,
 "nbformat_minor": 0
}
